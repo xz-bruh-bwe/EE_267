{
 "cells": [
  {
   "cell_type": "code",
   "execution_count": 6,
   "id": "ab4af3de-efb8-4b96-bab9-9a3986435ff9",
   "metadata": {},
   "outputs": [],
   "source": [
    "import torch\n",
    "import numpy as np\n",
    "import cv2\n",
    "import matplotlib.pyplot as plt\n",
    "from torchvision import models, transforms"
   ]
  },
  {
   "cell_type": "code",
   "execution_count": 7,
   "id": "097c622f-0f0b-43e5-9b37-a03ffac12c62",
   "metadata": {},
   "outputs": [
    {
     "name": "stderr",
     "output_type": "stream",
     "text": [
      "C:\\Users\\Baron\\anaconda3\\Lib\\site-packages\\torchvision\\models\\_utils.py:208: UserWarning: The parameter 'pretrained' is deprecated since 0.13 and may be removed in the future, please use 'weights' instead.\n",
      "  warnings.warn(\n",
      "C:\\Users\\Baron\\anaconda3\\Lib\\site-packages\\torchvision\\models\\_utils.py:223: UserWarning: Arguments other than a weight enum or `None` for 'weights' are deprecated since 0.13 and may be removed in the future. The current behavior is equivalent to passing `weights=DeepLabV3_ResNet50_Weights.COCO_WITH_VOC_LABELS_V1`. You can also use `weights=DeepLabV3_ResNet50_Weights.DEFAULT` to get the most up-to-date weights.\n",
      "  warnings.warn(msg)\n",
      "Downloading: \"https://download.pytorch.org/models/deeplabv3_resnet50_coco-cd0a2569.pth\" to C:\\Users\\Baron/.cache\\torch\\hub\\checkpoints\\deeplabv3_resnet50_coco-cd0a2569.pth\n",
      "100%|███████████████████████████████████████████████████████████████████████████████| 161M/161M [00:05<00:00, 30.5MB/s]\n"
     ]
    }
   ],
   "source": [
    "\n",
    "# Load a pre-trained DeepLabV3 model with a ResNet-50 backbone\n",
    "model = models.segmentation.deeplabv3_resnet50(pretrained=True)\n",
    "model.eval()\n",
    "\n",
    "# Preprocess the input image\n",
    "def preprocess_image(image_path):\n",
    "    # Load image and resize to 256x256\n",
    "    image = cv2.imread(image_path)\n",
    "    image = cv2.cvtColor(image, cv2.COLOR_BGR2RGB)\n",
    "    image = cv2.resize(image, (256, 256))\n",
    "    # Convert to tensor and normalize\n",
    "    preprocess = transforms.Compose([\n",
    "        transforms.ToTensor(),\n",
    "        transforms.Normalize(mean=[0.485, 0.456, 0.406], std=[0.229, 0.224, 0.225]),\n",
    "    ])\n",
    "    return preprocess(image).unsqueeze(0), image  # Add batch dimension and return original image\n",
    "\n",
    "# Perform inference and visualize\n",
    "def segment_image(model, image_tensor, original_image):\n",
    "    with torch.no_grad():\n",
    "        # Predict the segmentation mask\n",
    "        output = model(image_tensor)['out']\n",
    "        output = output.squeeze(0).cpu().numpy()  # Remove batch dimension and convert to numpy array\n",
    "        # Get the class with the highest probability at each pixel\n",
    "        segmentation_map = np.argmax(output, axis=0)\n",
    "        \n",
    "    # Visualize the original image and the segmentation mask\n",
    "    plt.figure(figsize=(10, 5))\n",
    "    plt.subplot(1, 2, 1)\n",
    "    plt.imshow(original_image)\n",
    "    plt.title(\"Original Image\")\n",
    "    plt.axis('off')\n",
    "    \n",
    "    plt.subplot(1, 2, 2)\n",
    "    # Colorize the segmentation map\n",
    "    colors = np.array([[0, 0, 0], [0, 255, 0], [0, 0, 255], [255, 0, 0]])  # Add more colors if needed\n",
    "    color_mask = colors[segmentation_map % len(colors)]\n",
    "    plt.imshow(color_mask)\n",
    "    plt.title(\"Segmentation Mask\")\n",
    "    plt.axis('off')\n",
    "    \n",
    "    plt.show()\n",
    "\n"
   ]
  },
  {
   "cell_type": "code",
   "execution_count": null,
   "id": "c1b30a0d-fd0a-42bb-bbb4-90cd6cc9a5d3",
   "metadata": {},
   "outputs": [],
   "source": [
    "# Example usage\n",
    "cars = \"C:/Users/Baron/Desktop/EE_267_Repo/EE_267/%PATH_EE267%/EE267_env//pictures/cars.png\"\n",
    "image_tensor, original_image = preprocess_image(image_path)\n",
    "segment_image(model, image_tensor, original_image)"
   ]
  },
  {
   "cell_type": "code",
   "execution_count": null,
   "id": "a5005fce-c5ac-4aaf-994a-55501030cf4c",
   "metadata": {},
   "outputs": [],
   "source": []
  },
  {
   "cell_type": "code",
   "execution_count": null,
   "id": "604e0e73-2df4-4bbc-ba26-28ea39d6da35",
   "metadata": {},
   "outputs": [],
   "source": []
  }
 ],
 "metadata": {
  "kernelspec": {
   "display_name": "Python 3 (ipykernel)",
   "language": "python",
   "name": "python3"
  },
  "language_info": {
   "codemirror_mode": {
    "name": "ipython",
    "version": 3
   },
   "file_extension": ".py",
   "mimetype": "text/x-python",
   "name": "python",
   "nbconvert_exporter": "python",
   "pygments_lexer": "ipython3",
   "version": "3.11.5"
  }
 },
 "nbformat": 4,
 "nbformat_minor": 5
}
