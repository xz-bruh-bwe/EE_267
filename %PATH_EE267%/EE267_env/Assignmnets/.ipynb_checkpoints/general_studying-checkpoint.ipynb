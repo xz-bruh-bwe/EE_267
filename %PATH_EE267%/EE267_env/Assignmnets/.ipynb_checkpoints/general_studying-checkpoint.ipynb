{
 "cells": [
  {
   "cell_type": "code",
   "execution_count": 3,
   "id": "98a3cd09-bc7e-4760-8443-02b83518d901",
   "metadata": {},
   "outputs": [
    {
     "name": "stdout",
     "output_type": "stream",
     "text": [
      "Requirement already satisfied: opencv-python in c:\\users\\baron\\anaconda3\\lib\\site-packages (4.10.0.84)\n",
      "Requirement already satisfied: numpy>=1.21.2 in c:\\users\\baron\\anaconda3\\lib\\site-packages (from opencv-python) (1.26.3)\n",
      "Note: you may need to restart the kernel to use updated packages.\n"
     ]
    }
   ],
   "source": [
    "pip install opencv-python"
   ]
  },
  {
   "cell_type": "markdown",
   "id": "c065f0b5-4e96-4a20-bb45-744c1c044419",
   "metadata": {},
   "source": [
    "### Bilateral Edge Preserving Technique"
   ]
  },
  {
   "cell_type": "code",
   "execution_count": 3,
   "id": "4fe76392-ba0e-4b76-83f5-93cdd65d6ca1",
   "metadata": {},
   "outputs": [
    {
     "data": {
      "text/plain": [
       "13"
      ]
     },
     "execution_count": 3,
     "metadata": {},
     "output_type": "execute_result"
    }
   ],
   "source": [
    "import cv2\n",
    "import numpy as np\n",
    "\n",
    "# Load an image\n",
    "image = cv2.imread(\"C:/Users/Baron/Desktop/EE_267_Repo/EE_267/%PATH_EE267%/EE267_env//pictures/lena.png\")\n",
    "\n",
    "# Apply bilateral filter\n",
    "bilateral_filtered_image = cv2.bilateralFilter(image, d=9, sigmaColor=75, sigmaSpace=75)\n",
    "\n",
    "# Display the result\n",
    "cv2.imshow('Original Image', image)\n",
    "cv2.imshow('Bilateral Filtered Image', bilateral_filtered_image)\n",
    "\n",
    "cv2.waitKey(0)\n",
    "cv2.destroyAllWindows() "
   ]
  },
  {
   "cell_type": "code",
   "execution_count": null,
   "id": "eb98db5d-bdc8-4c67-9e3d-72279884e79b",
   "metadata": {},
   "outputs": [],
   "source": []
  }
 ],
 "metadata": {
  "kernelspec": {
   "display_name": "Python 3 (ipykernel)",
   "language": "python",
   "name": "python3"
  },
  "language_info": {
   "codemirror_mode": {
    "name": "ipython",
    "version": 3
   },
   "file_extension": ".py",
   "mimetype": "text/x-python",
   "name": "python",
   "nbconvert_exporter": "python",
   "pygments_lexer": "ipython3",
   "version": "3.11.5"
  }
 },
 "nbformat": 4,
 "nbformat_minor": 5
}
