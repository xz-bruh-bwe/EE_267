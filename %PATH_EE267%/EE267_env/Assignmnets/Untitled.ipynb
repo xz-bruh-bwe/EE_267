{
 "cells": [
  {
   "cell_type": "code",
   "execution_count": 12,
   "id": "0416519a-10a3-495f-8862-d9e5f9ac9e13",
   "metadata": {},
   "outputs": [
    {
     "name": "stdout",
     "output_type": "stream",
     "text": [
      "Optimal path: {(0, 1), (0, 0)}\n"
     ]
    }
   ],
   "source": [
    "def martellis_a_star(grid):\n",
    "    \"\"\"Applies Martellis A* search to find the minimum sum path in a grid.\"\"\"\n",
    "\n",
    "    rows, cols = len(grid), len(grid[0])\n",
    "\n",
    "    # Heuristic: Sum of minimum values in remaining columns\n",
    "    def heuristic(row, col):\n",
    "        return sum(min(grid[i][col:]) for i in range(rows))\n",
    "\n",
    "    # Priority queue to store nodes with their estimated costs\n",
    "    queue = [(0, 0, 0)]  # (estimated cost, row, col)\n",
    "\n",
    "    # Keep track of explored nodes and their costs\n",
    "    explored = set()\n",
    "\n",
    "    while queue:\n",
    "        _, row, col = min(queue)\n",
    "        queue.remove((_, row, col))\n",
    "\n",
    "        if col == cols - 1:  # Reached the goal\n",
    "            return explored\n",
    "\n",
    "        explored.add((row, col))\n",
    "\n",
    "        # Explore neighbors\n",
    "        for dr, dc in [(1, 0), (-1, 0), (0, 1)]:\n",
    "            new_row, new_col = row + dr, col + dc\n",
    "            if 0 <= new_row < rows and 0 <= new_col < cols and (new_row, new_col) not in explored:\n",
    "                new_cost = grid[row][col] + grid[new_row][new_col]\n",
    "                new_est_cost = new_cost + heuristic(new_row, new_col)\n",
    "                queue.append((new_est_cost, new_row, new_col))\n",
    "\n",
    "    return None  # No path found\n",
    "\n",
    "# Example usage\n",
    "grid = [[1, 2, 3],\n",
    "        [2, 1, 0],\n",
    "        [2, 1, 7],\n",
    "        [3, 6, 8]]\n",
    "\n",
    "result = martellis_a_star(grid)\n",
    "if result:\n",
    "    print(\"Optimal path:\", result)\n",
    "else:\n",
    "    print(\"No path found.\")"
   ]
  }
 ],
 "metadata": {
  "kernelspec": {
   "display_name": "Python 3 (ipykernel)",
   "language": "python",
   "name": "python3"
  },
  "language_info": {
   "codemirror_mode": {
    "name": "ipython",
    "version": 3
   },
   "file_extension": ".py",
   "mimetype": "text/x-python",
   "name": "python",
   "nbconvert_exporter": "python",
   "pygments_lexer": "ipython3",
   "version": "3.11.5"
  }
 },
 "nbformat": 4,
 "nbformat_minor": 5
}
