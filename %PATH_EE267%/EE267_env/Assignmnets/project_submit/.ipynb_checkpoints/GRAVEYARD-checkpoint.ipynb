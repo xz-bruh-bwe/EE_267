{
 "cells": [
  {
   "cell_type": "code",
   "execution_count": 1,
   "id": "4214ed79-42d8-44f4-a001-a83f8672cf36",
   "metadata": {},
   "outputs": [],
   "source": []
  },
  {
   "cell_type": "code",
   "execution_count": 2,
   "id": "69c64444-8622-4325-bc65-61cccd3fdbc4",
   "metadata": {},
   "outputs": [],
   "source": [
    "# Function to process and display images one at a time\n",
    "def process_and_display_images(input_folder, output_folder):\n",
    "    # Create the output folder if it doesn't exist\n",
    "    if not os.path.exists(output_folder):\n",
    "        os.makedirs(output_folder)\n",
    "\n",
    "    # Loop through all files in the input folder\n",
    "    for filename in os.listdir(input_folder):\n",
    "        # Construct full file path\n",
    "        input_path = os.path.join(input_folder, filename)\n",
    "        output_path = os.path.join(output_folder, filename)\n",
    "\n",
    "        # Check if it is a file and has an image extension\n",
    "        if os.path.isfile(input_path) and filename.lower().endswith(('.png', '.jpg', '.jpeg', '.bmp', '.tiff')):\n",
    "            # Read the image\n",
    "            image = cv2.imread(input_path)\n",
    "            if image is not None:\n",
    "                # Enhance the image\n",
    "                enhanced_image = enhance_image(image)\n",
    "                \n",
    "                # Display the original image\n",
    "                cv2.imshow(\"Original Image\", image)\n",
    "                # Display the enhanced image\n",
    "                cv2.imshow(\"Enhanced Image\", enhanced_image)\n",
    "                \n",
    "                # Wait for a key press to move on\n",
    "                print(f\"Displaying: {filename}\")\n",
    "                key = cv2.waitKey(0)  # Wait indefinitely until a key is pressed\n",
    "                if key == 27:  # If 'Esc' is pressed, exit the loop\n",
    "                    print(\"Exiting...\")\n",
    "                    break\n",
    "                \n",
    "                # Close the display windows\n",
    "                cv2.destroyAllWindows()\n",
    "                \n",
    "                # Save the enhanced image to the output folder\n",
    "                cv2.imwrite(output_path, enhanced_image)\n",
    "                print(f\"Processed and saved: {output_path}\")\n",
    "            else:\n",
    "                print(f\"Failed to read image: {input_path}\")"
   ]
  },
  {
   "cell_type": "code",
   "execution_count": null,
   "id": "185de337-b411-4502-baaa-f81fcf20ec77",
   "metadata": {},
   "outputs": [],
   "source": [
    "def halve_image_dimensions(image):\n",
    "    \"\"\"\n",
    "    Halves the dimensions of an image.\n",
    "    Parameters:\n",
    "    - image: Input image (NumPy array).\n",
    "    Returns:\n",
    "    - Resized image.\n",
    "    \"\"\"\n",
    "    # Get current dimensions\n",
    "    height, width = image.shape[:2]\n",
    "    print(f\"Original size: {width}x{height}\")\n",
    "\n",
    "    # Halve the dimensions\n",
    "    new_width, new_height = width // 2, height // 2\n",
    "\n",
    "    # Resize the image\n",
    "    resized_image = cv2.resize(image, (new_width, new_height), interpolation=cv2.INTER_AREA)\n",
    "    print(f\"Resized image to: {new_width}x{new_height}\")\n",
    "    return resized_image"
   ]
  }
 ],
 "metadata": {
  "kernelspec": {
   "display_name": "Python 3 (ipykernel)",
   "language": "python",
   "name": "python3"
  },
  "language_info": {
   "codemirror_mode": {
    "name": "ipython",
    "version": 3
   },
   "file_extension": ".py",
   "mimetype": "text/x-python",
   "name": "python",
   "nbconvert_exporter": "python",
   "pygments_lexer": "ipython3",
   "version": "3.11.5"
  }
 },
 "nbformat": 4,
 "nbformat_minor": 5
}
