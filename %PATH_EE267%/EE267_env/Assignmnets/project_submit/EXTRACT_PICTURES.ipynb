{
 "cells": [
  {
   "cell_type": "markdown",
   "id": "de19f8cf-a121-4577-ab43-94cbb2a22f9b",
   "metadata": {},
   "source": [
    "### Project Part 1: Extract swimmers photos from swimmers video. \n",
    "    This kernel is associated with converting the swimmers video and then saving it to a specific file location"
   ]
  },
  {
   "cell_type": "code",
   "execution_count": 1,
   "id": "d2f8fe4f-ce83-4666-8adc-4252b5a3a43a",
   "metadata": {},
   "outputs": [],
   "source": [
    "### Imports"
   ]
  },
  {
   "cell_type": "code",
   "execution_count": 2,
   "id": "7100c99b-981f-48c7-ad84-f94d668f5a43",
   "metadata": {},
   "outputs": [],
   "source": [
    "### Designated File Location"
   ]
  },
  {
   "cell_type": "code",
   "execution_count": null,
   "id": "87ad8af4-c0db-496e-8540-8e0850ac6bd7",
   "metadata": {},
   "outputs": [],
   "source": []
  }
 ],
 "metadata": {
  "kernelspec": {
   "display_name": "Python 3 (ipykernel)",
   "language": "python",
   "name": "python3"
  },
  "language_info": {
   "codemirror_mode": {
    "name": "ipython",
    "version": 3
   },
   "file_extension": ".py",
   "mimetype": "text/x-python",
   "name": "python",
   "nbconvert_exporter": "python",
   "pygments_lexer": "ipython3",
   "version": "3.8.18"
  }
 },
 "nbformat": 4,
 "nbformat_minor": 5
}
